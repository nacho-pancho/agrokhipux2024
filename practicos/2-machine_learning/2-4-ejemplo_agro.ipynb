{
  "cells": [
    {
      "cell_type": "markdown",
      "metadata": {
        "id": "ytHYFd_U-NSb"
      },
      "source": [
        "# Ejemplo real: detección de uvas en viñedos\n",
        "\n",
        "El siguiente problema es un problema real en el que estamos trabajando al momento de dictar este curso.\n",
        "Los datos fueron extraídos de un viñedo en Uruguay y procesados por nosotros.\n",
        "\n",
        "El ejercicio que vamos a hacer es intentar identificar qué de una imagen pixeles pertenecen a una uva, y qué pixeles no.\n",
        "Para esto nos vamos a apoyar en anotaciones hechas por nuestros algoritmos. Intentaremos replicar estos resultados utilizando una estrategia muy sencilla: mirar el color de las uvas. \n",
        "\n",
        "Esto no va a funcionar tan bien como lo otro, pero va a mostrar el tipo de cosas que se pueden hacer.\n"
      ]
    },
    {
      "cell_type": "code",
      "execution_count": 2,
      "metadata": {
        "id": "jQEi5gjrwDhz"
      },
      "outputs": [],
      "source": [
        "\n"
      ]
    },
    {
      "cell_type": "markdown",
      "metadata": {},
      "source": [
        "## Datos\n",
        "\n",
        "Las imágenes son fotos de uvas en viñedos. Cada imagen está acompañada de una máscara que indica si un pixel es \"uva\" o no.\n",
        "\n",
        "### Descarga"
      ]
    },
    {
      "cell_type": "code",
      "execution_count": 1,
      "metadata": {},
      "outputs": [],
      "source": [
        "from urllib import request\n",
        "from zipfile import ZipFile\n",
        "import os\n",
        "import glob\n",
        "\n",
        "remote_url=\"https://iie.fing.edu.uy/dps/datos/publico/vino/vino_fino/masks/2024-03-04-vino_fino_sector_0-1.zip\"\n",
        "local_file=\"vino_fino_train.zip\"\n",
        "request.urlretrieve(remote_url, local_file)\n",
        "with ZipFile(local_file, 'r') as zf:\n",
        "    zf.extractall(\"train\")\n",
        "\n",
        "remote_url=\"https://iie.fing.edu.uy/dps/datos/publico/vino/vino_fino/masks/2024-03-04-vino_fino_sector_122_123.zip\"\n",
        "local_file=\"vino_fino_test.zip\"\n",
        "request.urlretrieve(remote_url, local_file)\n",
        "with ZipFile(local_file, 'r') as zf:\n",
        "    zf.extractall(\"test\")\n",
        "\n"
      ]
    },
    {
      "cell_type": "markdown",
      "metadata": {},
      "source": [
        "## Carga en memoria"
      ]
    },
    {
      "cell_type": "code",
      "execution_count": null,
      "metadata": {},
      "outputs": [],
      "source": [
        "import skimage.io as imgio\n",
        "#\n",
        "# armamos listas de imágenes y sus máscaras\n",
        "#\n",
        "train_image_list = glob.glob(\"train/2024-03-04-vino_fino_sector_0-1/images/*.png\")\n",
        "train_mask_list = sorted([i for i in train_image_list if \"mask\" in i])\n",
        "train_image_list = sorted([i for i in train_image_list if \"mask\" not in i])\n",
        "ntrain = len(train_image_list)\n",
        "assert(len(train_mask_list) == ntrain)\n",
        "print('Imagenes de entrenamiento:',ntrain)\n",
        "\n",
        "test_image_list = glob.glob(\"test/2024-03-04-vino_fino_sector_122_123/images/*.png\")\n",
        "test_mask_list  = sorted([i for i in test_image_list if \"mask\" in i])\n",
        "test_image_list = sorted([i for i in test_image_list if \"mask\" not in i])\n",
        "ntest = len(test_image_list)\n",
        "assert(len(test_mask_list) == ntest)\n",
        "print('Imagenes de evaluacion:',ntest)\n",
        "\n",
        "#\n",
        "# cargamos las imágenes en memoria\n",
        "train_images = [imgio.imread(i)/255 for i in train_image_list]\n",
        "train_masks  = [imgio.imread(i)/255 for i in train_mask_list]\n",
        "\n",
        "test_images = [imgio.imread(i)/255 for i in test_image_list]\n",
        "test_masks  = [imgio.imread(i)/255 for i in test_mask_list]\n",
        "\n",
        "#\n",
        "# le recortamos un poco arriba y abajo para ahorrar\n",
        "# cómputo y porque no hay nada ahí.\n",
        "#\n",
        "crop = train_images[0].shape[0]//5\n",
        "\n",
        "train_images = [i[crop:-crop,:,:] for i in train_images]\n",
        "train_masks  = [i[crop:-crop,:] for i in train_masks]\n",
        "\n",
        "test_images = [i[crop:-crop,:,:] for i in test_images]\n",
        "test_masks  = [i[crop:-crop,:] for i in test_masks]\n"
      ]
    },
    {
      "cell_type": "markdown",
      "metadata": {},
      "source": [
        "## Muestra de ejemplo\n",
        "\n",
        "Veamos abajo algunas de las imágenes que cargamos."
      ]
    },
    {
      "cell_type": "code",
      "execution_count": null,
      "metadata": {},
      "outputs": [],
      "source": [
        "import matplotlib.pyplot as plt\n",
        "\n",
        "plt.figure(figsize=(8,8),facecolor=(0.3,0.3,0.3))\n",
        "plt.subplot(1,2,1)\n",
        "plt.imshow(train_images[0])\n",
        "plt.title('Imagen')\n",
        "plt.axis('off')\n",
        "plt.subplot(1,2,2)\n",
        "plt.imshow(train_masks[0],cmap='hot')\n",
        "plt.title('Mascara')\n",
        "plt.axis('off')\n",
        "plt.show()\n"
      ]
    },
    {
      "cell_type": "markdown",
      "metadata": {},
      "source": [
        "## Clasificación en base a color\n",
        "\n",
        "Lo que vamos a hacer ahora es construir un clasificador usando regresión logística que nos diga si un pixel dado es parte de una uva o no. La entrada al clasificador es el valor de un pixel, que consiste en tres componentes de color: rojo (R), erde (G) y azul (B): $x=(r,g,b) \\in \\mathbb{R}^3$.\n",
        "\n",
        "Las imágenes de entrenamiento, con sus máscaras, ya nos proveen decenas de miles de pares de entrenamiento de tipo $(x,y)$ donde $x$ son los pixeles de la imagen e $y$ el valor correspondiente en la máscara, que vale $0$ o $1$.\n",
        "\n",
        "Tenemos $5$ imágenes de entrenamiento (con sus máscaras) y $5$ imágenes de evaluación. Las últimas no las vamos  a tocar. \n",
        "El clasificador, una regresión logística, va a ser entrenado por validación cruzada utilizando $4$ imágenes para ajustar el modelo y $1$ para evaluar. Esto lo podemos hacer de $5$ maneras distintas y con el desempeño promedio podemos calibrar el hiperparámetro del algoritmo ($C$).\n",
        "\n",
        "## Cómo lidiar con el desbalance de clases!\n",
        "\n",
        "La cantidad de pixeles con uvas es bastante menor que la de pixels sin uvas.\n",
        "Esto significa que obtendremos un buen _score_ de predicción simplemente diciendo que nunca hay uvas.\n",
        "Pero eso no es lo que queremos!\n",
        "\n",
        "Para corregir esto, sopesamos cada clase con un peso inversamente proporcional a su cantidad. Esto es algo que varía mucho.\n",
        "Lo definimos a mano como $(1/5,4/5)$"
      ]
    },
    {
      "cell_type": "code",
      "execution_count": null,
      "metadata": {},
      "outputs": [],
      "source": [
        "import numpy as np\n",
        "from sklearn.model_selection import train_test_split\n",
        "from sklearn.linear_model import LogisticRegression\n",
        "from skimage.color import rgb2hsv\n",
        "\n",
        "def train_model(train_images,train_masks):\n",
        "    models = list()\n",
        "    scores = list()\n",
        "    class_weights = {0:0.25,1:0.75}\n",
        "    M,N,NC = train_images[0].shape\n",
        "    Cvals = [1e-3,1e-2,1e-1,1e-0,1e1,1e2,1e3]\n",
        "    for c,C in enumerate(Cvals):\n",
        "        train_scores_c = list()\n",
        "        test_scores_c = list()\n",
        "        print(f'LogisticRegression C={C}:')\n",
        "        for k in range(ntrain):\n",
        "            X_val = np.reshape(train_images[k],(M*N,NC))\n",
        "            X_train = np.concatenate([np.reshape(train_images[i],(M*N,NC)) for i in range(ntrain) if i != k],axis=0)\n",
        "            y_val   = np.reshape(train_masks[k],(-1))\n",
        "            y_train = np.concatenate([np.reshape(train_masks[i],(-1)) for i in range(ntrain) if i != k])\n",
        "\n",
        "            model_c       = LogisticRegression(C=C,penalty='l2',max_iter=1000,class_weight=class_weights)\n",
        "            model_c       = model_c.fit(X_train, y_train)\n",
        "            if k == 0:\n",
        "                models.append(model_c) # guardamos uno de los modelos para usarlo luego\n",
        "            #\n",
        "            # medimos la calidad del ajuste en entrenamiento y test\n",
        "            #\n",
        "            train_score_k = model_c.score(X_train, y_train)\n",
        "            test_score_k  = model_c.score(X_val, y_val)\n",
        "            train_scores_c.append(train_score_k)\n",
        "            test_scores_c.append(test_score_k)\n",
        "            print(f\"\\tfold {k} score train: {train_score_k:.4f} test: {test_score_k:.4f}\")\n",
        "\n",
        "        mean_train_score = np.mean(train_scores_c)\n",
        "        mean_test_score = np.mean(test_scores_c)\n",
        "        std_test_score = np.std(test_scores_c)\n",
        "        std_train_score = np.std(train_scores_c)\n",
        "        print(f'Final score {mean_test_score:.4f} +/- {std_test_score:.4f}')\n",
        "        scores.append(mean_test_score-std_test_score) # peor caso\n",
        "    #\n",
        "    # elegimos el modelo con el mejor peor caso\n",
        "    #\n",
        "    k_best = np.argmax(scores)\n",
        "    model_best = models[k_best]\n",
        "    print(f'Mejor modelo: C={Cvals[k_best]}')\n",
        "    return model_best\n",
        "\n",
        "model = train_model(train_images,train_masks)"
      ]
    },
    {
      "cell_type": "markdown",
      "metadata": {
        "id": "nHNW5ITk-sTN"
      },
      "source": [
        "## Evaluación en imágenes de test\n",
        "\n",
        "Veamos ahora cómo se comparan las máscaras obtenidas con el regresor logístoco contra las máscaras existentes.\n",
        "\n"
      ]
    },
    {
      "cell_type": "code",
      "execution_count": null,
      "metadata": {},
      "outputs": [],
      "source": [
        "def eval_model(model,test_images):\n",
        "    for j,I in enumerate(test_images):\n",
        "        M,N,C = I.shape\n",
        "        X = np.reshape(I,(M*N,C))\n",
        "        y_pred = model.predict(X)\n",
        "        true_mask = test_masks[j]\n",
        "        y = np.reshape(true_mask,(-1))\n",
        "        score = model.score(X,y)\n",
        "        print(f'imagen {j} score {score:.4f}')\n",
        "        pred_mask = np.reshape(y_pred,true_mask.shape)\n",
        "        plt.figure(figsize=(8,8),facecolor=(0.3,0.3,0.3))\n",
        "        plt.subplot(1,2,1)\n",
        "        plt.imshow(true_mask,cmap='hot')\n",
        "        plt.title('Mascara real')\n",
        "        plt.axis('off')\n",
        "        plt.subplot(1,2,2)\n",
        "        plt.imshow(pred_mask,cmap='hot')\n",
        "        plt.title('Mascara predicha')\n",
        "        plt.axis('off')\n",
        "        plt.show()\n",
        "\n",
        "eval_model(model,test_images)"
      ]
    },
    {
      "cell_type": "markdown",
      "metadata": {},
      "source": [
        "## Conclusiones\n",
        "\n",
        "Dada la sencillez del enfoque (pretender detectar uvas sólamente en base al color!), el resultado es sorprendentemente bueno.\n",
        "Las uvas son detectadas con buena precisión. Lo que ocurre son muchas detecciones falsas en zonas donde el color es similar.\n",
        "Además, este clasificador no tiene noción espacial alguna, por lo que no hay coherencia espacial tampoco: cada pixel es clasificado de forma independiente del resto, cuando sabemos bien que los racimos son conjuntos de pixeles conexos. Todo esto puede utilizarse para mejorar este esquema.\n",
        "\n",
        "### Espacio de color\n",
        "\n",
        "También cabe mencionar que el espacio de colores RGB (como se suelen codificar las imágenes digitales) no es el más adecuado para este tipo de tareas.\n",
        "Un espacio más adecuado es el HSV por ejemplo, que representa los colores en términos de tono (Hue), saturación (Saturation) e intensidad (Value).\n",
        "Es muy fácil modificar la demo anterior para trabajar en ese espacio. Basta con utilizar las funciones de `skimage.color`  para convertir de un espacio a otro.\n",
        "\n",
        "En la siguiente celda repetimos todo pero convirtiendo las imágenes a HSV\n",
        "\n"
      ]
    },
    {
      "cell_type": "code",
      "execution_count": null,
      "metadata": {},
      "outputs": [],
      "source": [
        "from skimage.color import rgb2hsv\n",
        "M,N = train_images[0].shape[:2]\n",
        "train_images_hsv = [rgb2hsv(i)[:,:,:2].reshape((M,N,2)) for i in train_images]\n",
        "test_images_hsv = [rgb2hsv(i)[:,:,:2].reshape((M,N,2)) for i in test_images]\n",
        "model_hsv = train_model(train_images_hsv,train_masks)\n"
      ]
    },
    {
      "cell_type": "code",
      "execution_count": null,
      "metadata": {},
      "outputs": [],
      "source": [
        "eval_model(model_hsv,test_images_hsv)"
      ]
    }
  ],
  "metadata": {
    "colab": {
      "provenance": []
    },
    "kernelspec": {
      "display_name": "base",
      "language": "python",
      "name": "python3"
    },
    "language_info": {
      "codemirror_mode": {
        "name": "ipython",
        "version": 3
      },
      "file_extension": ".py",
      "mimetype": "text/x-python",
      "name": "python",
      "nbconvert_exporter": "python",
      "pygments_lexer": "ipython3",
      "version": "3.11.6"
    }
  },
  "nbformat": 4,
  "nbformat_minor": 0
}
