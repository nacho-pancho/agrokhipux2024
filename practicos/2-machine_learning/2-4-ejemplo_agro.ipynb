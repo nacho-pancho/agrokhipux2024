{
  "cells": [
    {
      "cell_type": "markdown",
      "metadata": {
        "id": "ytHYFd_U-NSb"
      },
      "source": [
        "# Ejemplo real: detección de uvas en viñedos\n",
        "\n",
        "El siguiente problema es un problema real en el que estamos trabajando al momento de dictar este curso.\n",
        "Los datos fueron extraídos de un viñedo en Uruguay y procesados por nosotros.\n",
        "\n",
        "El ejercicio que vamos a hacer es intentar identificar qué de una imagen pixeles pertenecen a una uva, y qué pixeles no.\n",
        "Para esto nos vamos a apoyar en anotaciones hechas por nuestros algoritmos. Intentaremos replicar estos resultados utilizando una estrategia muy sencilla: mirar el color de las uvas. \n",
        "\n",
        "Esto no va a funcionar tan bien como lo otro, pero va a mostrar el tipo de cosas que se pueden hacer.\n"
      ]
    },
    {
      "cell_type": "markdown",
      "metadata": {},
      "source": [
        "## Datos\n",
        "\n",
        "Las imágenes son fotos de uvas en viñedos. Cada imagen está acompañada de una máscara que indica si un pixel es \"uva\" o no.\n",
        "\n",
        "### Descarga"
      ]
    },
    {
      "cell_type": "code",
      "execution_count": 4,
      "metadata": {},
      "outputs": [],
      "source": [
        "from urllib import request\n",
        "from zipfile import ZipFile\n",
        "import os\n",
        "import glob\n",
        "\n",
        "remote_url=\"https://iie.fing.edu.uy/dps/datos/publico/vino/vino_fino/masks/2024-03-04-vino_fino_sector_0-1.zip\"\n",
        "local_file=\"vino_fino_train.zip\"\n",
        "request.urlretrieve(remote_url, local_file)\n",
        "with ZipFile(local_file, 'r') as zf:\n",
        "    zf.extractall(\"train\")\n",
        "\n",
        "remote_url=\"https://iie.fing.edu.uy/dps/datos/publico/vino/vino_fino/masks/2024-03-04-vino_fino_sector_122_123.zip\"\n",
        "local_file=\"vino_fino_test.zip\"\n",
        "request.urlretrieve(remote_url, local_file)\n",
        "with ZipFile(local_file, 'r') as zf:\n",
        "    zf.extractall(\"test\")\n",
        "\n"
      ]
    },
    {
      "cell_type": "markdown",
      "metadata": {},
      "source": [
        "## Carga en memoria"
      ]
    },
    {
      "cell_type": "code",
      "execution_count": null,
      "metadata": {},
      "outputs": [],
      "source": [
        "import skimage.io as imgio\n",
        "\n",
        "\n",
        "def cargar_imagenes():\n",
        "    #\n",
        "    # armamos listas de imágenes y sus máscaras\n",
        "    #\n",
        "    train_image_list = glob.glob(\"train/2024-03-04-vino_fino_sector_0-1/images/*.png\")\n",
        "    train_mask_list = sorted([i for i in train_image_list if \"mask\" in i])\n",
        "    train_image_list = sorted([i for i in train_image_list if \"mask\" not in i])\n",
        "    ntrain = len(train_image_list)\n",
        "    assert(len(train_mask_list) == ntrain)\n",
        "    print('Imagenes de entrenamiento:',ntrain)\n",
        "\n",
        "    test_image_list = glob.glob(\"test/2024-03-04-vino_fino_sector_122_123/images/*.png\")\n",
        "    test_mask_list  = sorted([i for i in test_image_list if \"mask\" in i])\n",
        "    test_image_list = sorted([i for i in test_image_list if \"mask\" not in i])\n",
        "    ntest = len(test_image_list)\n",
        "    assert(len(test_mask_list) == ntest)\n",
        "    print('Imagenes de evaluacion:',ntest)\n",
        "\n",
        "    #\n",
        "    # cargamos las imágenes en memoria\n",
        "    train_images = [imgio.imread(i)/255 for i in train_image_list]\n",
        "    train_masks  = [imgio.imread(i)/255 for i in train_mask_list]\n",
        "\n",
        "    test_images = [imgio.imread(i)/255 for i in test_image_list]\n",
        "    test_masks  = [imgio.imread(i)/255 for i in test_mask_list]\n",
        "\n",
        "    #\n",
        "    # le recortamos un poco arriba y abajo para ahorrar\n",
        "    # cómputo y porque no hay nada ahí.\n",
        "    #\n",
        "    crop = train_images[0].shape[0]//5\n",
        "\n",
        "    train_images = [i[crop:-crop,:,:] for i in train_images]\n",
        "    train_masks  = [i[crop:-crop,:] for i in train_masks]\n",
        "\n",
        "    test_images = [i[crop:-crop,:,:] for i in test_images]\n",
        "    test_masks  = [i[crop:-crop,:] for i in test_masks]\n",
        "    return train_images,train_masks,test_images,test_masks\n",
        "\n",
        "\n",
        "train_images,train_masks,test_images,test_masks = cargar_imagenes()\n"
      ]
    },
    {
      "cell_type": "markdown",
      "metadata": {},
      "source": [
        "## Muestra de ejemplo\n",
        "\n",
        "Veamos abajo algunas de las imágenes que cargamos."
      ]
    },
    {
      "cell_type": "code",
      "execution_count": null,
      "metadata": {},
      "outputs": [],
      "source": [
        "import matplotlib.pyplot as plt\n",
        "import matplotlib as mpl\n",
        "import matplotlib.cm as cm\n",
        "\n",
        "import numpy as np\n",
        "import numpy.random as rng\n",
        "\n",
        "mpl.rcParams['figure.dpi'] = 100\n",
        "mpl.rcParams['savefig.dpi'] = 150\n",
        "\n",
        "mpl.rcParams['font.size'] = 10\n",
        "mpl.rcParams['legend.fontsize'] = 'small'\n",
        "mpl.rcParams['figure.titlesize'] = 'small'\n",
        "\n",
        "\n",
        "plt.figure(figsize=(8,8),facecolor=(0.3,0.3,0.3))\n",
        "plt.subplot(1,2,1)\n",
        "plt.imshow(train_images[0])\n",
        "plt.title('Imagen')\n",
        "plt.axis('off')\n",
        "plt.subplot(1,2,2)\n",
        "plt.imshow(train_masks[0],cmap='hot')\n",
        "plt.title('Mascara')\n",
        "plt.axis('off')\n",
        "plt.show()\n"
      ]
    },
    {
      "cell_type": "markdown",
      "metadata": {},
      "source": [
        "# Clasificación en base a color\n",
        "\n",
        "Lo que vamos a hacer ahora es construir un clasificador  que nos diga si un pixel dado es parte de una uva o no. \n",
        "La entrada al clasificador es el valor de un pixel, que consiste en tres componentes de color: rojo (R), erde (G) y azul (B): $x=(r,g,b) \\in \\mathbb{R}^3$.\n",
        "Las imágenes de entrenamiento, con sus máscaras, ya nos proveen decenas de miles de pares de entrenamiento de tipo $(x,y)$ donde $x$ son los pixeles de la imagen e $y$ el valor correspondiente en la máscara, que vale $0$ o $1$.\n",
        "\n",
        "Tenemos $5$ imágenes de entrenamiento (con sus máscaras) y $5$ imágenes de evaluación. Las últimas no las vamos  a tocar. \n",
        "El clasificador, una regresión logística, va a ser entrenado por validación cruzada utilizando $4$ imágenes para ajustar el modelo y $1$ para evaluar. Esto lo podemos hacer de $5$ maneras distintas y con el desempeño promedio podemos calibrar el hiperparámetro del algoritmo ($C$).\n"
      ]
    },
    {
      "cell_type": "markdown",
      "metadata": {},
      "source": [
        "### Análisis exploratorio\n",
        "\n",
        "Una de las las buenas prácticas más importantes en la aplicación del aprendizaje automático es realizar siempre un análisis exploratorio en el cual uno pueda obserar los datos. No siempre se puede, pero en este caso sí podemos hacerlo. Los datos que tenemos son tridimensionales, así que es difícil observarlos con sus tres variables a la vez. Lo que haremos es un `pairwise plot` en donde mostramos gráficas de las variables tomadas de a 2."
      ]
    },
    {
      "cell_type": "code",
      "execution_count": null,
      "metadata": {},
      "outputs": [],
      "source": [
        "# un buen paquete para hacer esto de manera elegante es seaborn\n",
        "# para mantener los requisitos al mínimo, realizaremos esta gráfica a mano\n",
        "import numpy as np\n",
        "\n",
        "def pair_plot(train_images,train_masks,labels=['rojo','verde','azul']):\n",
        "    M,N,NC = train_images[0].shape\n",
        "    plt.figure(figsize=(10,10),facecolor=(.5,.5,.5))\n",
        "    # demasiados puntos!\n",
        "    #X_train = np.concatenate([np.reshape(train_images[i],(M*N,NC)) for i in range(ntrain)],axis=0)\n",
        "    #y_train = np.concatenate([np.reshape(train_masks[i],(-1)) for i in range(ntrain)])\n",
        "    X_train = np.reshape(train_images[0],(M*N,NC))\n",
        "    y_train = np.reshape(train_masks[0],(-1))\n",
        "    for i in range(3):\n",
        "        for j in range(3):\n",
        "            plt.subplot(3,3,3*i+j+1,facecolor=(0.1,0.1,0.1))\n",
        "            plt.scatter(X_train[:,i],X_train[:,j],c=y_train[:],s=0.1,cmap='autumn',alpha=0.05)\n",
        "            plt.xlabel(labels[i])\n",
        "            plt.ylabel(labels[j])\n",
        "    plt.show()\n",
        "\n",
        "pair_plot(train_images=train_images,train_masks=train_masks)"
      ]
    },
    {
      "cell_type": "markdown",
      "metadata": {},
      "source": [
        "\n",
        "# Primer acercamiento: regresión logística (lineal)\n",
        "\n",
        "El primer modelo que vamos a probar es una regresión logística como la que vimos en el práctico de clasificación.\n",
        "La mayor limitante de este modelo es que es lineal, es decir, divide el espacio de decisiones por un hiperplano.\n",
        "Si los datos (uva - no uva) no son fácilmente separables en ese espacio, entonces no vamos a poder hacer mucho.\n",
        "Del análisis exploratorio anterior puede verse que hay cierto grado de separación entre las clases (rojo s. amarillo), pero no es total.\n",
        "En todo caso, esto nos va a dar un primer enfoque sencillo para trabajar, y una cota inferior al desempeño.\n",
        "\n",
        "## Cómo lidiar con el desbalance de clases\n",
        "\n",
        "La cantidad de pixeles con uvas es bastante menor que la de pixels sin uvas.\n",
        "Esto significa que obtendremos un buen _score_ de predicción simplemente diciendo que nunca hay uvas.\n",
        "Pero eso no es lo que queremos!\n",
        "\n",
        "Para corregir esto, sopesamos cada clase con un peso inversamente proporcional a su cantidad. Esto es algo que varía mucho.\n",
        "Lo definimos a mano como $(1/5,4/5)$"
      ]
    },
    {
      "cell_type": "code",
      "execution_count": null,
      "metadata": {},
      "outputs": [],
      "source": [
        "import numpy as np\n",
        "from sklearn.model_selection import train_test_split\n",
        "from sklearn.linear_model import LogisticRegression\n",
        "from skimage.color import rgb2hsv\n",
        "\n",
        "def train_model(train_images,train_masks):\n",
        "    models = list()\n",
        "    scores = list()\n",
        "    class_weights = {0:0.25,1:0.75}\n",
        "    M,N,NC = train_images[0].shape\n",
        "    Cvals = [1e-2,1e-1,1e-0,1e1,1e2,1e3]\n",
        "    for c,C in enumerate(Cvals):\n",
        "        train_scores_c = list()\n",
        "        test_scores_c = list()\n",
        "        print(f'LogisticRegression C={C}:')\n",
        "        for k in range(ntrain):\n",
        "            X_val = np.reshape(train_images[k],(M*N,NC))\n",
        "            X_train = np.concatenate([np.reshape(train_images[i],(M*N,NC)) for i in range(ntrain) if i != k],axis=0)\n",
        "            y_val   = np.reshape(train_masks[k],(-1))\n",
        "            y_train = np.concatenate([np.reshape(train_masks[i],(-1)) for i in range(ntrain) if i != k])\n",
        "\n",
        "            model_c       = LogisticRegression(C=C,penalty='l2',max_iter=1000,class_weight=class_weights)\n",
        "            model_c       = model_c.fit(X_train, y_train)\n",
        "            if k == 0:\n",
        "                models.append(model_c) # guardamos uno de los modelos para usarlo luego\n",
        "            #\n",
        "            # medimos la calidad del ajuste en entrenamiento y test\n",
        "            #\n",
        "            train_score_k = model_c.score(X_train, y_train)\n",
        "            test_score_k  = model_c.score(X_val, y_val)\n",
        "            train_scores_c.append(train_score_k)\n",
        "            test_scores_c.append(test_score_k)\n",
        "            print(f\"\\tfold {k} score train: {train_score_k:.4f} test: {test_score_k:.4f}\")\n",
        "\n",
        "        mean_train_score = np.mean(train_scores_c)\n",
        "        mean_test_score = np.mean(test_scores_c)\n",
        "        std_test_score = np.std(test_scores_c)\n",
        "        std_train_score = np.std(train_scores_c)\n",
        "        print(f'Final score {mean_test_score:.4f} +/- {std_test_score:.4f}')\n",
        "        scores.append(mean_test_score-std_test_score) # peor caso\n",
        "    #\n",
        "    # elegimos el modelo con el mejor peor caso\n",
        "    #\n",
        "    k_best = np.argmax(scores)\n",
        "    model_best = models[k_best]\n",
        "    print(f'Mejor modelo: C={Cvals[k_best]}')\n",
        "    return model_best\n",
        "\n",
        "model = train_model(train_images,train_masks)"
      ]
    },
    {
      "cell_type": "markdown",
      "metadata": {
        "id": "nHNW5ITk-sTN"
      },
      "source": [
        "## Evaluación en imágenes de test\n",
        "\n",
        "Veamos ahora cómo se comparan las máscaras obtenidas con el regresor logístoco contra las máscaras existentes.\n",
        "\n"
      ]
    },
    {
      "cell_type": "code",
      "execution_count": null,
      "metadata": {},
      "outputs": [],
      "source": [
        "def eval_model(model,test_images,test_masks):\n",
        "    for j,I in enumerate(test_images):\n",
        "        M,N,C = I.shape\n",
        "        X = np.reshape(I,(M*N,C))\n",
        "        y_pred = model.predict(X)\n",
        "        true_mask = test_masks[j]\n",
        "        y = np.reshape(true_mask,(-1))\n",
        "        score = model.score(X,y)\n",
        "        print(f'imagen {j} score {score:.4f}')\n",
        "        pred_mask = np.reshape(y_pred,true_mask.shape)\n",
        "        plt.figure(figsize=(8,8),facecolor=(0.3,0.3,0.3))\n",
        "        plt.subplot(1,2,1)\n",
        "        plt.imshow(true_mask,cmap='hot')\n",
        "        plt.title('Mascara real')\n",
        "        plt.axis('off')\n",
        "        plt.subplot(1,2,2)\n",
        "        plt.imshow(pred_mask,cmap='hot')\n",
        "        plt.title('Mascara predicha')\n",
        "        plt.axis('off')\n",
        "        plt.show()\n",
        "\n",
        "eval_model(model,test_images,test_masks)"
      ]
    },
    {
      "cell_type": "markdown",
      "metadata": {},
      "source": [
        "## Conclusiones\n",
        "\n",
        "Dada la sencillez del enfoque (pretender detectar uvas sólamente en base al color!), el resultado es sorprendentemente bueno.\n",
        "Las uvas son detectadas con buena precisión. Lo que ocurre son muchas detecciones falsas en zonas donde el color es similar.\n",
        "\n",
        "Además, este clasificador no tiene noción espacial alguna, por lo que no hay coherencia espacial tampoco: cada pixel es clasificado de forma independiente del resto, cuando sabemos bien que los racimos son conjuntos de pixeles conexos. Todo esto puede utilizarse para mejorar este esquema.\n",
        "\n"
      ]
    },
    {
      "cell_type": "markdown",
      "metadata": {},
      "source": [
        "# Segundo acercamiento: vecinos más cercanos\n",
        "\n",
        "Una forma sencilla de clasificar es utilizar el método conocido como vecinos más cercanos. \n",
        "La idea es muy simple: los datos de entrenamiento se almacenan en memoria tal cual son ingresados, como un la lista de pares $D = (x_j,y_j: i=1,\\ldots,n)$, donde $x_j$ es un punto y $y_j$ su etiqueta de clase. \n",
        "\n",
        "Luego, para determinar la clase $y^*$ de un nuevo punto $x^*$, se buscan los $k$ puntos más cercanos a él en $D$ y se toma nota de sus etiquetas. Luego $y^*$ se define como la etiqueta más frecuente entre los $k$ puntos más ceranos. Si hay empates se decide de alguna manera arbitraria.\n",
        "\n",
        "Este es un método _no paramétrico_, en el sentido de que el modelo que se obtiene no tiene parámetros, sino que debe recurrir a todos los datos de entrenamiento cada vez. Esto lo hace _lento_, y por ende no muy recomendable en la práctica, pero es muy bueno para probar ya que suele dar buenos resultados y constituye una buena base para comparar con métodos más sofisticados/rápidos.\n",
        "\n"
      ]
    },
    {
      "cell_type": "code",
      "execution_count": 8,
      "metadata": {},
      "outputs": [],
      "source": [
        "from sklearn.neighbors import KNeighborsClassifier\n",
        "from sklearn.neighbors import NearestNeighbors\n",
        "M,N,NC = train_images[0].shape\n",
        "K = 5\n",
        "X = np.reshape(train_images[0],(M*N,NC))\n",
        "y = np.reshape(train_masks[0],(-1))\n",
        "Xpruned = X\n",
        "ypruned = y\n",
        "model = KNeighborsClassifier(n_neighbors=4,algorithm='kd_tree')\n",
        "model.fit(X,y)\n"
      ]
    },
    {
      "cell_type": "markdown",
      "metadata": {},
      "source": [
        "### Evaluación"
      ]
    },
    {
      "cell_type": "code",
      "execution_count": null,
      "metadata": {},
      "outputs": [],
      "source": [
        "eval_model(model,test_images,test_masks)"
      ]
    },
    {
      "cell_type": "markdown",
      "metadata": {},
      "source": [
        "### Comentarios\n",
        "\n",
        "El resultado que se obtiene es muy bueno teniendo en cuenta la sencillez del método. No es un método rápido, ya que para clasificar cada punto debe compararse con todos los puntos en su base de datos. Existen método para acelerarlo, pero no entraremos en detalle aquí.\n"
      ]
    }
  ],
  "metadata": {
    "colab": {
      "provenance": []
    },
    "kernelspec": {
      "display_name": "base",
      "language": "python",
      "name": "python3"
    },
    "language_info": {
      "codemirror_mode": {
        "name": "ipython",
        "version": 3
      },
      "file_extension": ".py",
      "mimetype": "text/x-python",
      "name": "python",
      "nbconvert_exporter": "python",
      "pygments_lexer": "ipython3",
      "version": "3.11.6"
    }
  },
  "nbformat": 4,
  "nbformat_minor": 0
}
