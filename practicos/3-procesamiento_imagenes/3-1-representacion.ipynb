{
  "cells": [
    {
      "cell_type": "markdown",
      "id": "8bd11832-8efa-4cfc-9a73-4995ad673664",
      "metadata": {
        "id": "8bd11832-8efa-4cfc-9a73-4995ad673664"
      },
      "source": [
        "# Representación de imágenes en Python\n",
        "\n",
        "## Primero que nada\n",
        "\n",
        "En lo que sigue, es importante recordar que Python es un lenguaje de _propósito general_. A diferencia de otros lenguajes como R, no tiene ningún tipo de previsión especial en su definición para trabajar con datos que no sean números, texto y algunas estructuras de propósito general como _listas_ (`list`) o _diccionarios_ (`dict`). \n",
        "\n",
        "Python no tiene una forma predefinida de trabajar con vectores, matrices, tablas, etc. En particular Python no define cómo debe representarse una imagen.\n",
        "\n",
        "## Matrices, vectores, tablas\n",
        "\n",
        "Para poder trabajar con todo lo anterior, es necesario utilizar _bibliotecas_  desarrolladas por terceros (es decir, por gente ajena al desararollo del propio lenguaje Python).\n",
        "\n",
        "La biblioteca por defecto y abrumadoramente utilizada para poder trabajar con vectores y matrices se llama `numpy`.\n",
        "Veamos un ejemplo abajo de cómo se utiliza. Numpy es una biblioteca muy grande, completa y compleja que sirve no sólo para representar vectores y matrices sino que provee una enorme familia de funciones para operar con este tipo de datos (álgebra, etc.), así como todo tipo de operaciones numéricas, generación de números aleatorios, etc. No vamos a dar una introducción completa de numpy aquí porque no hay lugar; sólo vamos a ver lo básico en lo que respecta a lo que nos interesa: imágenes.\n",
        "\n",
        "Pero empecemos con un pequeño ejemplo."
      ]
    },
    {
      "cell_type": "code",
      "execution_count": null,
      "id": "ec54217e-22f8-4d31-913a-64c2721fdb2c",
      "metadata": {
        "id": "ec54217e-22f8-4d31-913a-64c2721fdb2c"
      },
      "outputs": [],
      "source": [
        "import numpy as np\n",
        "\n",
        "#\n",
        "# definimos una matriz\n",
        "#\n",
        "matriz = np.array([[1, 2], [3, 4]])\n",
        "#\n",
        "# la imprimimos en pantalla\n",
        "#\n",
        "print(matriz)"
      ]
    },
    {
      "cell_type": "markdown",
      "id": "17553f2d",
      "metadata": {},
      "source": [
        "## Mirado con lupa\n",
        "\n",
        "El ejemplo de arriba lo vamos a mirar con lupa por una vez para entender la semántica (lo que hace) Python con esas dos líneas de texto. En particular la primera. Primero:\n",
        "\n",
        "#### Asignación\n",
        "\n",
        "```\n",
        "A = np.array(...)\n",
        "```\n",
        "\n",
        "Eso es una _asignación_ que carga en la variable `A` el resultado de crear una matriz de numpy a partir de un conjunto de datos iniciales. Las matrices en NumPy se llaman _arrays_  (`np.array`). \n",
        "\n",
        "#### Construcción\n",
        "\n",
        "```\n",
        "np.array( ... )\n",
        "```\n",
        "\n",
        "Lo anterior es lo que se llama un _constructor_. Es una función que _construye_  un dato (llamado _objeto_) a partir de un conjunto de datos básicos. Y qué son los datos básicos en este caso? Un tipo básico de Python: _listas_. En particular, una _lista_ de _listas_ de números:\n",
        "\n",
        "#### De datos básicos a objetos\n",
        "```\n",
        "[1,2]\n",
        "```\n",
        "\n",
        "es una lista de números.\n",
        "\n",
        "```\n",
        "[3,4]\n",
        "```\n",
        "\n",
        "es otra lista de números.\n",
        "```\n",
        "[ [1,2], [3,4] ]\n",
        "```\n",
        "\n",
        "Es una lista de dos listas de números. Se puede hacer esto _ad infinitum_, porque las listas de Python tienen cualquier cosa adentro.\n",
        "\n",
        "#### Más en detalle aún\n",
        "\n",
        "La _sintaxis_  `[1,2]` y `[3,4]` es una forma abreviada de Pythno para  definir listas con valores y tamaño iniciales. Las listas en Python son estructuras de tamaño variable a las que se les pueden agregar y qutiar elementos. Si quisiéramos hacer todo lo anterior pero de manera mucho más clara (e ineficiente), haríamos lo siguiente:\n"
      ]
    },
    {
      "cell_type": "code",
      "execution_count": null,
      "id": "718f10df",
      "metadata": {},
      "outputs": [],
      "source": [
        "#\n",
        "# versión 'el atajo del cerro' o 'el camino del Inca' de creación de matrices\n",
        "#\n",
        "fila_1 = list()\n",
        "fila_1.append(1)\n",
        "fila_1.append(2)\n",
        "\n",
        "fila_2 = list()\n",
        "fila_2.append(3)\n",
        "fila_2.append(4)\n",
        "\n",
        "filas = list()\n",
        "filas.append(fila_1)\n",
        "filas.append(fila_2)\n",
        "\n",
        "matriz = np.array(filas)\n",
        "print(matriz)\n"
      ]
    },
    {
      "cell_type": "markdown",
      "id": "f31e8ea1",
      "metadata": {},
      "source": [
        "### Creación de matrices en Python\n",
        "\n",
        "De arriba podemos tener ahora una idea más clara de cómo se pasa de estructuras básicas de Python a matrices en Numpy.\n",
        "En el caso de matrices bidimensionales, el código anterior nos muestra que una matriz se define como una _lista de filas_.\n",
        "\n",
        "Una restricción importante es que todas las filas tienen que tener la misma cantidad de elementos; esto es un requisito básico de una matriz, y lo diferencia semánticamente de una simple lista de listas.\n",
        "\n",
        "#### Ejercicio\n",
        "\n",
        " pruebe agregar un elemento extra a la segunda fila y ejecute de nuevo el código anterior\n",
        "\n",
        "\n",
        "### Vectores, matrices y tensores\n",
        "\n",
        "En realidad se pueden anidar más y más listas. Eso da lugar a matrices de más _dimensiones_, llamadas _tensores_. Vamos a necesitar esto por ejemplo para trabajar con imágenes a color, pero después lo vemos. \n",
        "\n",
        "Si quieremos ir en el otro sentido y construir un vector, lo que le pasamos es una lista de númerios:\n",
        "\n",
        "```\n",
        "v = np.array([0,1])\n",
        "```\n"
      ]
    },
    {
      "cell_type": "markdown",
      "id": "6a346af1",
      "metadata": {},
      "source": [
        "# Imágenes en Python\n",
        "\n",
        "A la vez que `NumPy`  define formas de representar y operar con matrrices y vectores, otras bibliotecas definen cómo trabajar con imágenes, videos, audio etc.\n",
        "\n",
        "Para el caso de imágenes, y en particular imágenes a _color_, no hay una sóla forma de representarlas.\n",
        "\n",
        "Las bibliotecas más comunes de representación y procesamiento de imágenes son:\n",
        "\n",
        "* `skimage`, la más sencilla\n",
        "* `Pillow`, la más completa\n",
        "* `opencv`: imágenes y video, mucho más compleja que las otras\n",
        "* La propia `NumPy`, a un nivel muy básico\n",
        "* `matplotlib`, que en realidad es una biblioteca de dibujo\n",
        "\n",
        "Vamos a utilizar `skimage` porque implica menos abstracciones que las otras y porque es muy completa, pero `matplotlib` la usaremos incidentalmente porque es lo que hay para dibujar imágenes y además permite cargar algunos tipos de imágenes comunes sin necesidad de otras bibliotecas.\n",
        "\n",
        "Para utilizar bibliotecas, como siempre, hay que _importarlas_. Ejecute el siguiente código (celda) para hacerlo."
      ]
    },
    {
      "cell_type": "code",
      "execution_count": 4,
      "id": "d06edfab",
      "metadata": {},
      "outputs": [],
      "source": [
        "import skimage    # biblioteca 'entera'\n",
        "import skimage.io # para cargar y guardar imágenes"
      ]
    },
    {
      "cell_type": "markdown",
      "id": "8b188b72",
      "metadata": {},
      "source": [
        "## Cargando imágenes\n",
        "\n",
        "Vamos a cargar una imagen usando el sub-módulo `io` (input-output) de `skimage`"
      ]
    },
    {
      "cell_type": "code",
      "execution_count": null,
      "id": "a8b1464f-eb90-461a-9fbb-71a4453fd90d",
      "metadata": {
        "id": "a8b1464f-eb90-461a-9fbb-71a4453fd90d"
      },
      "outputs": [],
      "source": [
        "#\n",
        "# cargamos la imagen -- directo de internet!\n",
        "#\n",
        "imagen = skimage.io.imread('http://iie.fing.edu.uy/~nacho/cursos/agro/frame_crudo.jpg')\n",
        "#\n",
        "# tamaño de la imagne\n",
        "#\n",
        "print('tamaño:',imagen.shape) \n",
        "print('tipo:',imagen.dtype)\n",
        "#\n",
        "# primeros 4x4 pixeles de la esquina superior izquieda\n",
        "#\n",
        "print('primeros 4x4 pixeles:',imagen[:4,:4,:])"
      ]
    },
    {
      "cell_type": "markdown",
      "id": "92f40744",
      "metadata": {},
      "source": [
        "### Qué es eso??\n",
        "\n",
        "Veamos qué es cada una de esas cosas:\n",
        "\n",
        "* **Tamaño**: (3840 x 2160 x 3) es el tamaño de la _matriz_ en donde está almacenada la imagen. Pero es una matriz de 3 coordenadas. La primera coordenada es la cantida de _filas_ ($3840$). La segunda es la cantidad de _columnas_ ($2160$). La tercera coordenada es la cantidad de _canales_. Lo que sucede con las imágenes a color es que son _multicanal_: cada pixel tiene 3 valores, no uno. Salvo `opencv`, el resto de las bibliotecas consideran al primer elemento de este vector como la cantidad de color _rojo_ en la imagen; el segundo, _verde_; el tercero, _azul_. Esta representación se llama \"RGB\" (OpenCV usa  \"BGR\"). Otra forma de ver a este tipo de matriz es que cada elemento (fila,columna) es un _vector_  de valores en lugar de un sólo número.\n",
        "* **Tipo**: un aspecto importantísimo de las matrices es el _tipo numérico_ que almacenan. Hay varios tipos que pueden usarse: números enteros, números reales, inculso complejos. Desafortunadamente, las bibliotecas de imágenes no son muy consistentes según el tipo que utilizan, y cómo se interpreta el color de una imagen según el tipo! *hay que tener mucho cuidado con esto*. En este caso, `uint8` significa que los valores de pixeles (intensidades en rojo, verde, azul) son _enteros sin signo de 8 bits_ (`uint8` = Unsigned Integer,  8 bits). Esto es clásico en imágenes digitales: los valores de los pixeles van de $0$ (menor intensidad) a $255$ (máxima intensidad). El color negro es pues $(0,0,0)$ y el color blanco es $(255,255,255)$.\n",
        "* **Primeros 4x4 pixeles: aquí vemos las dos cosas anteriores en conjunto: la sintaxis `imagen[:4,:4,:]` extrae lo que se llama un _slice_ (tajada) de la imagen. En este caso concreto significa: _tomar las primeras 4 filas, las primeras 4 columnas, y todos los canales_  de la imagen. El resultado es una _sub matriz_ de $(4x4x3)$, y lo que vemos es esa matriz, y la vemos como una lista, de listas, de listas. Las listas más internas son las ternas `[R G B]` y como podemos ver corresponden a pixeles _negros_ `[0 0 0]`.\n"
      ]
    },
    {
      "cell_type": "markdown",
      "id": "5f0e6d29-94ce-4579-a35f-43c88287cc0b",
      "metadata": {
        "id": "5f0e6d29-94ce-4579-a35f-43c88287cc0b"
      },
      "source": [
        "## Cómo ver las imágenes\n",
        "\n",
        "Para esto vamos a usar la biblioteca `matplotlib`. Abajo vemos varios comandos, pero la mayoría son sólo para que se vea más lindo todo. El que importa es `plt.imshow`"
      ]
    },
    {
      "cell_type": "code",
      "execution_count": null,
      "id": "64737941-2f11-4a9e-adb7-a52f696b31eb",
      "metadata": {
        "id": "64737941-2f11-4a9e-adb7-a52f696b31eb",
        "outputId": "f6502b7d-2d51-4f34-b7e1-9d85099b7e0e"
      },
      "outputs": [],
      "source": [
        "import matplotlib as mpl\n",
        "import matplotlib.pyplot as plt                # importar la biblioteca matplotlib\n",
        "\n",
        "mpl.rcParams['figure.dpi'] = 150\n",
        "mpl.rcParams['savefig.dpi'] = 150\n",
        "\n",
        "mpl.rcParams['font.size'] = 10\n",
        "mpl.rcParams['legend.fontsize'] = 'small'\n",
        "mpl.rcParams['figure.titlesize'] = 'small'\n",
        "\n",
        "aspect_ratio = imagen.shape[1]/imagen.shape[0] # ignorar esta linea\n",
        "plt.figure(figsize=(aspect_ratio*8,8))         # ignorar esta linea\n",
        "plt.imshow(imagen)\n",
        "plt.show()                                     # ignorar esta linea"
      ]
    },
    {
      "cell_type": "markdown",
      "id": "a928ccd1-d746-4a19-8740-653fee04018a",
      "metadata": {
        "id": "a928ccd1-d746-4a19-8740-653fee04018a"
      },
      "source": [
        "## Slices en acción\n",
        "\n",
        "Es importante entender que el uso de _slices_ es muy poderoso en imágenes. Podemos fácilmente recortar partes de imágenes y trabajar con ellas de esa manera. Podemos ver _canales_ independientes también, algo que veremos es muy útil. Veamos algunos ejemplos.\n",
        "El uso de slices puede ser muy sofisticado. Es necesario practicar para entenerlo bien. "
      ]
    },
    {
      "cell_type": "code",
      "execution_count": null,
      "id": "9620b198-e5c4-4e08-8b11-a76aa3d9c5c6",
      "metadata": {
        "id": "9620b198-e5c4-4e08-8b11-a76aa3d9c5c6",
        "outputId": "c9bf0f06-4d87-4b71-cedb-9a4420fb83b8"
      },
      "outputs": [],
      "source": [
        "#\n",
        "# mostramos una parte de la imagen\n",
        "#\n",
        "# los índices negativos indican 'desde el final'\n",
        "# en el ejemplo de abajo empezamos en la fila 600 desde arriba y terminamos en la fila 600 desde el final (-600)\n",
        "# tomamos las columnas desde la 100 hasta 100 desde el final (-100)\n",
        "#\n",
        "recortada = imagen[600:-600,100:-100,:] \n",
        "plt.imshow(recortada)\n",
        "plt.title('recortada')\n",
        "plt.show()\n",
        "#\n",
        "# también podemos saltearnos pixeles\n",
        "# esta _no es una buena forma_ de reescalar, pero es muy rápida \n",
        "# el :2:  en el medio dice \"saltear de a 2\"; en resumen: 600:2:600 debe leerse\n",
        "# ir desde la fila 600 de la izquierda, hasta la fila 600 desde la derecha, salteando de a 2\n",
        "reducida = imagen[600:-600:2,100:-100:2,:] \n",
        "plt.imshow(reducida)\n",
        "plt.title('reducida')\n",
        "plt.show()\n",
        "#\n",
        "# también podemos mirar un sólo canal si tomamos un slice en la tercera dimensión\n",
        "# el resultado no es una imagen azul: es una imagen sin información de color, \n",
        "# y por eso debemos proporcionar un 'mapa de colores' que haga la correspondencia entre\n",
        "# intensidad (cantidad de azul) y un color. Vamos a usar escala de grises.\n",
        "#\n",
        "azul = imagen[600:-600,100:-100,2] # canal 2 es azul \n",
        "plt.imshow(azul,cmap='gray')\n",
        "plt.title('azul')\n",
        "plt.show()\n"
      ]
    },
    {
      "cell_type": "markdown",
      "id": "497ac956",
      "metadata": {},
      "source": [
        "## Modificando valores\n",
        "\n",
        "Vamos a cambiar algunos valores en la imagen. También veremos cómo crear algunos tipos de matrices comunes que nos van a servir, por ejemplo, todo ceros o todo unos."
      ]
    },
    {
      "cell_type": "code",
      "execution_count": null,
      "id": "c4a84bc3",
      "metadata": {},
      "outputs": [],
      "source": [
        "imagen2 = np.copy(imagen) # hacemos una copia\n",
        "imagen2[700:1200,700:1200] = 255 # ponemos en blanco una parte de la imagen\n",
        "imagen2[1500:2000,800:1200] = 0 # ponemos en negro otra parte\n",
        "plt.imshow(imagen2)\n",
        "plt.show()\n",
        "\n"
      ]
    },
    {
      "cell_type": "markdown",
      "id": "8b7da419-fcda-4721-9483-621167c48341",
      "metadata": {
        "id": "8b7da419-fcda-4721-9483-621167c48341"
      },
      "source": [
        "## Algo de aritmética\n",
        "\n",
        "La gracia de representar imágenes como matrices de números es que podemos hacer operaciones con ellas.\n",
        "Ya vimos cómo sustituir valores. Veamos cómo hacer otras cosas sencillas. En este caso dejaremos que el estudiante interprete el significado de cada operación y su resultado.\n"
      ]
    },
    {
      "cell_type": "code",
      "execution_count": null,
      "id": "af737879",
      "metadata": {},
      "outputs": [],
      "source": [
        "imagen3 = np.copy(imagen)\n",
        "#\n",
        "# reducir valores -> bajar brillo\n",
        "#\n",
        "imagen3[1000:2000,1000:2000] = imagen3[1000:2000,1000:2000] / 2\n",
        "\n",
        "#\n",
        "# aumentar valores -> subir brillo\n",
        "#\n",
        "imagen3[2000:3000,1000:2000] = imagen3[2000:3000,1000:2000] * 3\n",
        "\n",
        "gris = (0.5,0.5,0.5)\n",
        "plt.figure(facecolor=gris) # para que no incandile\n",
        "plt.imshow(imagen3)\n",
        "plt.show()\n"
      ]
    },
    {
      "cell_type": "markdown",
      "id": "afc046f1",
      "metadata": {},
      "source": [
        "### Notan algo raro?\n",
        "\n",
        "A esta altura podrán observar que aparecieron unos colores extraños en el rectánculo al que le aumentamos el brillo!!\n",
        "La razón de esto es que, como los colores tienen un valor máximo de 255, al multiplicarlos por un valor mayor a $1$ obtuvimos colores inválidos! Es muy importante tener en cuenta que la representación de la imagen sigue siendo un conjunto de números, y distintos tipos de números (en este caso, enteros de 8 bits) tienen distintas limitaciones.\n",
        "\n",
        "### Ojo con las representaciones \n",
        "\n",
        "Una cosa difícil de manejar (incluso con experiencia) es que según el _tipo_  de números utilizado, las bibliotecas interpretan los _valores_  de distinta manera. A grosso modo:\n",
        "\n",
        "* Si los pixeles son _enteros_ (_integer_), entonces se asume que van de 0 (negro) a 255 (blanco)\n",
        "* Si son flotantes (_flotantes_ o _float_), se asume que van de 0 (negro) a 1 (blanco)\n",
        "\n",
        "Si se intenta guardar la imagen en un archivo, el resultado va a ser muy distinto al que se muestra.\n",
        "\n",
        "Todo esto _es_ confuso y _no_ está bien diseñado. Hay que lidiar con ello con cuidado.\n",
        "\n",
        "### Sugerencia: SIEMPRE convertir a punto flotante entre 0 y 1!!\n",
        "\n",
        "La mejor forma de trabajar es:\n",
        "\n",
        "* trabajar con las imágenes en punto flotante entre 0 y 1\n",
        "* al guardarlas, sólo al guardarlas, convertirlas a 0-255 uint8\n",
        "\n",
        "Ejemplo:\n"
      ]
    },
    {
      "cell_type": "code",
      "execution_count": null,
      "id": "cb48408c",
      "metadata": {},
      "outputs": [],
      "source": [
        "\n",
        "imagen4 = imagen/255\n",
        "print(np.min(imagen4),np.max(imagen4))\n",
        "\n",
        "imagen4[2000:3000,1000:2000] = imagen4[2000:3000,1000:2000] * 3\n",
        "gris = (0.5,0.5,0.5)\n",
        "plt.figure(facecolor=gris) # para que no incandile\n",
        "plt.imshow(imagen4)\n",
        "plt.show()\n"
      ]
    },
    {
      "cell_type": "markdown",
      "id": "6ce2f20e",
      "metadata": {},
      "source": [
        "### Inspección de la salida\n",
        "\n",
        " Lo de arriba debería dar un mensaje de advertencia: los valores mayores a $1$ siguen siendo inválidos, pero ahora son interpretados automáticamente como _demasiado brillantes_ y mostrados de manera más natural.\n",
        "\n",
        " ### Guardando la imagen\n",
        "\n",
        " Veamos ahora cómo guardar una imagen bien, y cómo guardarla mal.\n",
        " \n",
        "\n"
      ]
    },
    {
      "cell_type": "code",
      "execution_count": null,
      "id": "c2984498",
      "metadata": {},
      "outputs": [],
      "source": [
        "#\n",
        "# esto no funciona (correr y luego comentar el código!)\n",
        "#  \n",
        "#skimage.io.imsave('mal.png',imagen4)  \n",
        "#\n",
        "# esto sí funciona, pero mal!\n",
        "# al convertir a uint8, se interpretan los valores entre 0 y 255\n",
        "# pero nuestra imagen apenas supera el valor 1.\n",
        "# es decir, queda todo casi negro\n",
        "#\n",
        "print(np.max(imagen4))\n",
        "imagen4_uint8 = imagen4.astype(np.uint8)\n",
        "skimage.io.imsave('mal.png',imagen4_uint8) \n",
        "#\n",
        "# reescalemos para que quede entre 0 y 255\n",
        "#\n",
        "imagen5 = imagen4*255\n",
        "imagen5_uint8 = imagen5.astype(np.uint8)\n",
        "skimage.io.imsave('no_tan_bien.png',imagen5_uint8)  # ups! se pasó de 255\n",
        "#\n",
        "# mejor: recortar valores\n",
        "# ahora sí, la salida por lo menos se ve bien\n",
        "# sigue con un problema: hay valores \"saturados\" (demasiado brillantes)\n",
        "# pero por lo menos se ve bien\n",
        "#\n",
        "imagen5 = imagen4*255\n",
        "imagen5_clip = np.minimum(255,imagen5)\n",
        "imagen5_uint8 = imagen5_clip.astype(np.uint8)\n",
        "skimage.io.imsave('mejor.png',imagen5_uint8)  \n",
        "\n",
        "\n",
        "\n",
        "\n"
      ]
    },
    {
      "cell_type": "markdown",
      "id": "c3010eee",
      "metadata": {},
      "source": [
        "## Espacios de color\n",
        "\n",
        "Posiblemente la forma más común de representar imágenes a color es en términos de los canales  'rojo', 'verde' y 'azul' (RGB) como vimos anteriormente.\n",
        "Sin embargo, hay muchas formas de respresentar los colores de una imagen. La representación RGB no siempre es la más adecuada, principalmente porque no se relaciona directamente con la forma en que los humanos percibimos el color, es decir, en términos de cualidades como el _tono_, la _saturación_ o el _brillo o intensidad_. \n",
        "Debido a lo anterior, existen muchas (muchísimas) formas alternativas de representar los colores.\n",
        "Una de ellas es la llamada HSV (Hue, Saturation, Value), que se traduce literalmente a 'tono', 'saturación' y 'valor'. \n",
        "Nuevamente la imagen se representa como una matriz de tamaño H x W x 3 en donde H es la altura y W es el ancho y la última dimensión indica el canal. La diferencia es que ahora el primer canal es H (no R), el segundo S (no G) y el último es V (no B).\n",
        "\n",
        "Veamos ahora cómo se ven los distintos canales en ambas representaciones.\n",
        "\n"
      ]
    },
    {
      "cell_type": "code",
      "execution_count": null,
      "id": "59a02284",
      "metadata": {},
      "outputs": [],
      "source": [
        "#\n",
        "# sub-módulo de skimage para lidiar con colores\n",
        "#\n",
        "from skimage import color\n",
        "\n",
        "imagen = imagen / 255\n",
        "rojo  = imagen[:,:,0]\n",
        "verde = imagen[:,:,1]\n",
        "azul  = imagen[:,:,2]\n",
        "\n",
        "#\n",
        "# conversion de espacios de color\n",
        "# \n",
        "imagen_hsv = color.rgb2hsv(imagen)\n",
        "hue = imagen_hsv[:,:,0]\n",
        "sat = imagen_hsv[:,:,1]\n",
        "val = imagen_hsv[:,:,2]\n",
        "\n",
        "plt.figure(figsize=(7,8))\n",
        "plt.subplot(2,3,1)\n",
        "plt.imshow(rojo,cmap='gray')\n",
        "plt.title('rojo')\n",
        "plt.axis('off')\n",
        "plt.subplot(2,3,2)\n",
        "plt.imshow(verde,cmap='gray')\n",
        "plt.title('verde')\n",
        "plt.axis('off')\n",
        "plt.subplot(2,3,3)\n",
        "plt.imshow(azul,cmap='gray')\n",
        "plt.title('azul')\n",
        "plt.axis('off')\n",
        "\n",
        "plt.subplot(2,3,4)\n",
        "plt.imshow(hue,cmap='gray')\n",
        "plt.title('hue')\n",
        "plt.axis('off')\n",
        "plt.subplot(2,3,5)\n",
        "plt.imshow(sat,cmap='gray')\n",
        "plt.title('saturacion')\n",
        "plt.axis('off')\n",
        "plt.subplot(2,3,6)\n",
        "plt.imshow(val,cmap='gray')\n",
        "plt.title('valor')\n",
        "plt.axis('off')\n"
      ]
    }
  ],
  "metadata": {
    "colab": {
      "provenance": []
    },
    "kernelspec": {
      "display_name": "base",
      "language": "python",
      "name": "python3"
    },
    "language_info": {
      "codemirror_mode": {
        "name": "ipython",
        "version": 3
      },
      "file_extension": ".py",
      "mimetype": "text/x-python",
      "name": "python",
      "nbconvert_exporter": "python",
      "pygments_lexer": "ipython3",
      "version": "3.11.8"
    }
  },
  "nbformat": 4,
  "nbformat_minor": 5
}
