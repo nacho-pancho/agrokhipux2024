{
  "cells": [
    {
      "cell_type": "markdown",
      "id": "8bd11832-8efa-4cfc-9a73-4995ad673664",
      "metadata": {
        "id": "8bd11832-8efa-4cfc-9a73-4995ad673664"
      },
      "source": [
        "# Procesamiento de imágenes\n",
        "\n",
        "Habiendo entendido lo básico de la manipulación de imágenes en Python, en este notebook haremos algunas operaciones típicas sobre imágenes:\n",
        "\n",
        "* reescalado\n",
        "* rotación\n",
        "* filtrado\n",
        "* detección de bordes\n",
        "* segmentación\n"
      ]
    },
    {
      "cell_type": "markdown",
      "id": "02eb4e36",
      "metadata": {},
      "source": [
        "## Preámbulo\n",
        "\n",
        "Siempre hay que cargar bibliotecas, etc."
      ]
    },
    {
      "cell_type": "code",
      "execution_count": 1,
      "id": "d06edfab",
      "metadata": {},
      "outputs": [],
      "source": [
        "import numpy as np\n",
        "import skimage    # biblioteca 'entera'\n",
        "import skimage.io # para cargar y guardar imágenes\n",
        "import matplotlib as mpl\n",
        "import matplotlib.pyplot as plt\n",
        "\n",
        "\n",
        "mpl.rcParams['figure.dpi'] = 150\n",
        "mpl.rcParams['savefig.dpi'] = 150\n",
        "\n",
        "mpl.rcParams['font.size'] = 10\n",
        "mpl.rcParams['legend.fontsize'] = 'small'\n",
        "mpl.rcParams['figure.titlesize'] = 'small'\n"
      ]
    },
    {
      "cell_type": "markdown",
      "id": "8b188b72",
      "metadata": {},
      "source": [
        "## Carga y recorte\n",
        "\n"
      ]
    },
    {
      "cell_type": "code",
      "execution_count": null,
      "id": "a8b1464f-eb90-461a-9fbb-71a4453fd90d",
      "metadata": {
        "id": "a8b1464f-eb90-461a-9fbb-71a4453fd90d"
      },
      "outputs": [],
      "source": [
        "#\n",
        "# cargamos la imagen -- directo de internet!\n",
        "#\n",
        "imagen = skimage.io.imread('http://iie.fing.edu.uy/~nacho/cursos/agro/frame_crudo.jpg')\n",
        "#\n",
        "# YA la convertimos a 0-1\n",
        "#\n",
        "imagen = imagen/255\n",
        "\n",
        "#\n",
        "#\n",
        "# nos vamos a quedar con una parte de aquí en más\n",
        "#\n",
        "altura = imagen.shape[0]\n",
        "ancho = imagen.shape[1]\n",
        "recorte = altura-ancho # recorte para hacer la imagen cuadrada con la parte de abajo\n",
        "imagen = imagen[recorte:,:]\n",
        "#\n",
        "# a ver\n",
        "#\n",
        "plt.figure(figsize=(8,8))         \n",
        "plt.imshow(imagen)\n",
        "plt.show()                                    \n"
      ]
    },
    {
      "cell_type": "markdown",
      "id": "163fe80c",
      "metadata": {},
      "source": []
    }
  ],
  "metadata": {
    "colab": {
      "provenance": []
    },
    "kernelspec": {
      "display_name": "base",
      "language": "python",
      "name": "python3"
    },
    "language_info": {
      "codemirror_mode": {
        "name": "ipython",
        "version": 3
      },
      "file_extension": ".py",
      "mimetype": "text/x-python",
      "name": "python",
      "nbconvert_exporter": "python",
      "pygments_lexer": "ipython3",
      "version": "3.11.8"
    }
  },
  "nbformat": 4,
  "nbformat_minor": 5
}
